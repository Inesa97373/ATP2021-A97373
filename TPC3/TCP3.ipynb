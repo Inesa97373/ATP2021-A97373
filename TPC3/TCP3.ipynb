{
 "cells": [
  {
   "cell_type": "markdown",
   "metadata": {},
   "source": [
    "# TPC3"
   ]
  },
  {
   "cell_type": "markdown",
   "metadata": {},
   "source": [
    "## Bubble Sort\n",
    "\n",
    "__Data início:__ 2021-10-25 |\n",
    "__Data de fim:__ 2021-10-25 |\n",
    "__Supervisor:__ José Carlos Leite Ramalho |\n",
    "__Autor:__ Inês Costa Duarte, A97373\n",
    "\n",
    "\n",
    "## Resumo\n",
    "\n",
    "O objetivo do algoritmo é ordenar uma lista, por ordem crescente, através de trocas diretas comparando 2 elementos sucessivos. Para que o programa não faça trocas infinitamente, criei um ciclo \"while\" que recebe uma variável \"Trocas\" que tem o valor True e que passa a False dentro do while e volta a ser True quando ocorre uma troca. Deste modo, quando a lista fica organizada a variável Trocas torna-se False sempre e por isso o ciclo termina. "
   ]
  },
  {
   "cell_type": "code",
   "execution_count": null,
   "metadata": {},
   "outputs": [],
   "source": [
    "lista=[]\n",
    "n=int(input(\"Nº de elementos da lista: \"))\n",
    "for i in range (n):\n",
    "    x=int(input(\"Elemento da lista: \"))\n",
    "    lista.append(x)\n",
    "\n",
    "def BubbleSort(lista):\n",
    "    \n",
    "    trocas=True\n",
    "    \n",
    "    while(trocas):\n",
    "        trocas=False\n",
    "        \n",
    "        for j in range (len(lista)-1):\n",
    "            \n",
    "            if lista[j]>lista[j+1]:\n",
    "                \n",
    "                lista[j], lista[j+1]=lista[j+1],lista[j]\n",
    "                \n",
    "                trocas=True\n",
    "    \n",
    "    return lista\n",
    "\n",
    "\n",
    "print(BubbleSort(lista))\n"
   ]
  }
 ],
 "metadata": {
  "kernelspec": {
   "display_name": "Python 3",
   "language": "python",
   "name": "python3"
  },
  "language_info": {
   "codemirror_mode": {
    "name": "ipython",
    "version": 3
   },
   "file_extension": ".py",
   "mimetype": "text/x-python",
   "name": "python",
   "nbconvert_exporter": "python",
   "pygments_lexer": "ipython3",
   "version": "3.8.3"
  }
 },
 "nbformat": 4,
 "nbformat_minor": 4
}
