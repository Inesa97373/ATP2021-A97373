{
 "cells": [
  {
   "cell_type": "markdown",
   "metadata": {},
   "source": [
    "# TPC2\n",
    "\n",
    "## Adivinha o número\n",
    "\n",
    "__Data início:__ 2021-10-16 \n",
    "__Data de fim:__ 2021-10-17\n",
    "__Supervisor:__ José Carlos Leite Ramalho\n",
    "__Autor:__ Inês Costa Duarte, A97373\n",
    "    \n",
    "\n",
    "\n"
   ]
  },
  {
   "cell_type": "markdown",
   "metadata": {},
   "source": [
    "## Resumo"
   ]
  },
  {
   "cell_type": "markdown",
   "metadata": {},
   "source": [
    "O objetivo deste jogo é o programa adivinhar o número de 0 a 100 que o utilizador pensar. Para isso poderemos ter apenas 7 tentativas pois 2^7=128. Inicialmente, comecei por definir três variáveis, «n» correspondente ao valor mínimo do intervalo, «N» ao valor máximo e «c» o contador de tentativas efetuadas pelo computador. De seguida, defini as regras do jogo e os comandos a utilizar pelo utilizador, neste caso, «maior», «menor» e «igual».\n",
    "\n",
    "O meu raciocínio consistiu em quatro condições que englobam todas as situações possíveis. Caso o palpite do computador seja superior o «n» toma o valor da divisão inteira da soma de «n» com «N». Caso este seja inferior o «N» toma o valor da divisão inteira da soma de «n» com «N». Para cada uns dos palpites dados adicionamos ao «c» um, para, desta forma, sejam contabilizadas todas as tentativas."
   ]
  },
  {
   "cell_type": "code",
   "execution_count": null,
   "metadata": {},
   "outputs": [],
   "source": [
    "n=0\n",
    "N=100\n",
    "c=0\n",
    "print(\"Pense num número de 0 a 100.\")\n",
    "print(\"O computador vai adivinhar o seu número num máximo de 7 tentativas.\")\n",
    "print(\"Caso o palpite do computador não seja o correto utilize «maior» ou «menor». Caso este esteja correto, utilize «igual»\")\n",
    "\n",
    "def procura(n,N,c):\n",
    "    m=(n+N)//2\n",
    "    palpite=input(\"O número que pensou é \"+str(m)+ \"? \")\n",
    "    if palpite==\"igual\":\n",
    "         c=c+1\n",
    "         print(\"O computador adivinhou em\", c, \"tentativas.\")\n",
    "         print(\"Fim do jogo.\")\n",
    "    elif palpite==\"maior\":\n",
    "        n=m\n",
    "        c=c+1\n",
    "        procura(n,N,c)\n",
    "    elif palpite==\"menor\":\n",
    "        N=m\n",
    "        c=c+1\n",
    "        procura(n,N,c)\n",
    "    else:\n",
    "        print(\"Comando não aceite.\")\n",
    "    \n",
    "procura(n,N,c)"
   ]
  },
  {
   "cell_type": "code",
   "execution_count": null,
   "metadata": {},
   "outputs": [],
   "source": []
  },
  {
   "cell_type": "code",
   "execution_count": null,
   "metadata": {},
   "outputs": [],
   "source": []
  }
 ],
 "metadata": {
  "kernelspec": {
   "display_name": "Python 3",
   "language": "python",
   "name": "python3"
  },
  "language_info": {
   "codemirror_mode": {
    "name": "ipython",
    "version": 3
   },
   "file_extension": ".py",
   "mimetype": "text/x-python",
   "name": "python",
   "nbconvert_exporter": "python",
   "pygments_lexer": "ipython3",
   "version": "3.8.3"
  }
 },
 "nbformat": 4,
 "nbformat_minor": 4
}
